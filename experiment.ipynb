{
 "cells": [
  {
   "cell_type": "code",
   "execution_count": 1,
   "id": "b9c87a7d-d995-4b57-8239-90e3aa85988c",
   "metadata": {},
   "outputs": [],
   "source": [
    "import qiskit as qk\n",
    "import numpy as np\n",
    "import qiskit_aer\n",
    "from qiskit.primitives import BaseEstimatorV2 as Estimator\n",
    "from qiskit_ibm_runtime import EstimatorV2, QiskitRuntimeService, Session\n",
    "\n",
    "backend = qiskit_aer.Aer.get_backend(\"aer_simulator\")\n",
    "estimator = EstimatorV2(backend)\n",
    "estimator.options.default_precision = 0.001"
   ]
  },
  {
   "cell_type": "markdown",
   "id": "7ec27de3-b613-4db2-b7da-e7c49c35bfe7",
   "metadata": {},
   "source": [
    "# Fixed point iteration using Amplified Encodings\n",
    "\n",
    "In this file we will define an amplified encoding for the function\n",
    "$$\n",
    "g(x) = \\begin{bmatrix} 1 \\\\ 1 \\end{bmatrix} - \\frac18 \\begin{bmatrix} (x_1 + x_2)^2 \\\\ (x_1 - x_2)^2 \\end{bmatrix}.\n",
    "$$\n",
    "and use it to find the fixed point where $g(x) = x$.\n",
    "An amplified encoding is a function that takes a block encoding of $x$ and constructs a block encoding of $g(x)$. For this we will need a data structure to hold the block encoding."
   ]
  },
  {
   "cell_type": "code",
   "execution_count": 2,
   "id": "94d4b8b7-d62f-4358-9b4a-461a4db57c7f",
   "metadata": {},
   "outputs": [],
   "source": [
    "class BlockEncoding:\n",
    "\n",
    "    def __init__(self, U: qk.QuantumCircuit, cU: qk.QuantumCircuit, norm: float):\n",
    "        self.U = U        # non-controlled version of unitary of block encoding\n",
    "        self.cU = cU      # controlled version of unitary of block encoding\n",
    "        self.norm = norm  # normalization of block encoding"
   ]
  },
  {
   "cell_type": "markdown",
   "id": "e87dbdd1-0c80-4000-ad5f-8d190b6f7227",
   "metadata": {},
   "source": [
    "Usually the data structure would also need fields to store the projections $\\Pi_1$ and $\\Pi_2$ (or the circuits that implement them). Here, we always know that the projections will either be\n",
    "\n",
    "1) $\\langle 0|$ for the domain and $\\operatorname{Id}_1$ for the codomain, when the block encoding has information efficiency 1, or\n",
    "2) $\\langle 000|$ for the domain and $\\langle 00| \\otimes \\operatorname{Id}_1$ for the codomain.\n",
    "\n",
    "We will refer back to this as projections 1) and 2) later. Controlled versions for all circuits are implemented manually for efficiency.\n",
    "\n",
    "We could for example define a block encoding for our starting value $x^{(0)} = [1 \\;1]^T$ with projections 1) like the following."
   ]
  },
  {
   "cell_type": "code",
   "execution_count": 3,
   "id": "7d6048a5-3581-4d03-a964-a109ce0139dc",
   "metadata": {},
   "outputs": [
    {
     "data": {
      "image/png": "[encoded data removed]",
      "text/plain": [
       "<Figure size 185.453x117.056 with 1 Axes>"
      ]
     },
     "execution_count": 3,
     "metadata": {},
     "output_type": "execute_result"
    }
   ],
   "source": [
    "U_x = qk.QuantumCircuit(1, name=\"U_x0\")\n",
    "U_x.ry(2 * np.arctan(1/1), 0)\n",
    "cU_x = qk.QuantumCircuit(2, name=\"cU_x0\")\n",
    "cU_x.cry(2 * np.arctan(1/1), 0, 1)\n",
    "\n",
    "x0 = BlockEncoding(U_x, cU_x, np.sqrt(2))\n",
    "\n",
    "U_x.draw(\"mpl\")"
   ]
  },
  {
   "cell_type": "markdown",
   "id": "7602ac74-7699-4a2d-9352-744de9a872fe",
   "metadata": {},
   "source": [
    "We now use this to implement a block encoding of $g(x)$"
   ]
  },
  {
   "cell_type": "code",
   "execution_count": 4,
   "id": "a7f85d19-cd1d-4f13-9690-2796c0b89152",
   "metadata": {},
   "outputs": [],
   "source": [
    "U_g = qk.QuantumCircuit(3)"
   ]
  },
  {
   "cell_type": "markdown",
   "id": "40ed35bb-9b8c-4bce-8680-4172f0f4b606",
   "metadata": {},
   "source": [
    "The last qubit is used to control the addition of the constant and quadratic terms. We use a rotation so that the qubit is in state $|1\\rangle$ with probability\n",
    "$$\\frac{\\big|[1 \\; 1]^T\\big|}{|g(x)|}$$"
   ]
  },
  {
   "cell_type": "code",
   "execution_count": 5,
   "id": "eb845f51-ea16-400c-bce3-f559a6c43ef7",
   "metadata": {},
   "outputs": [
    {
     "data": {
      "text/plain": [
       "<qiskit.circuit.instructionset.InstructionSet at 0x7fbf3b2878b0>"
      ]
     },
     "execution_count": 5,
     "metadata": {},
     "output_type": "execute_result"
    }
   ],
   "source": [
    "angle = 2 * np.arctan(np.sqrt(np.sqrt(2) / ((2/8) * x0.norm ** 2)))\n",
    "U_g.ry(angle, 2)"
   ]
  },
  {
   "cell_type": "markdown",
   "id": "126ac9be-840a-4874-b87a-e7d726115322",
   "metadata": {},
   "source": [
    "If it is we want to prepare the vector $[1\\; 1]^T$ in the first register, which we do using a Hadamard gate."
   ]
  },
  {
   "cell_type": "code",
   "execution_count": 6,
   "id": "bbc2148b-e973-4922-935e-16fa2cc696f7",
   "metadata": {},
   "outputs": [
    {
     "data": {
      "text/plain": [
       "<qiskit.circuit.instructionset.InstructionSet at 0x7fbf3b287f40>"
      ]
     },
     "execution_count": 6,
     "metadata": {},
     "output_type": "execute_result"
    }
   ],
   "source": [
    "U_g.ch(2, 0)"
   ]
  },
  {
   "cell_type": "markdown",
   "id": "e821fc94-d69f-428e-8934-9b3b1fe6b695",
   "metadata": {},
   "source": [
    "Otherwise, we flip the sign using a $\\mathrm{Z}$ gate (to get subtraction instead of addition) and prepare two copies of $x^{0}$."
   ]
  },
  {
   "cell_type": "code",
   "execution_count": 7,
   "id": "67d15a8f-f69d-4790-bf5b-b6778fcd4b33",
   "metadata": {},
   "outputs": [
    {
     "data": {
      "text/plain": [
       "<qiskit.circuit.instructionset.InstructionSet at 0x7fbf39f05900>"
      ]
     },
     "execution_count": 7,
     "metadata": {},
     "output_type": "execute_result"
    }
   ],
   "source": [
    "U_g.x(2)\n",
    "U_g.z(2)\n",
    "U_g.append(x0.cU, [2, 0])\n",
    "U_g.append(x0.cU, [2, 1])"
   ]
  },
  {
   "cell_type": "markdown",
   "id": "4aacda61-3450-41ff-abed-89caa766ad87",
   "metadata": {},
   "source": [
    "We then apply the matrix\n",
    "$$\\begin{bmatrix} 1 & \\phantom{-}1 \\\\ 1 & -1\\end{bmatrix}$$\n",
    "to both copies using two more Hadamard gates, giving us two copies of\n",
    "$$\\begin{bmatrix} x_1 + x_2 \\\\ x_1 - x_2 \\end{bmatrix}.$$\n",
    "These are finally multiplied using a CNOT gate."
   ]
  },
  {
   "cell_type": "code",
   "execution_count": 8,
   "id": "2e5dd9c6-5a4a-4296-b57d-6291eb839351",
   "metadata": {},
   "outputs": [
    {
     "data": {
      "text/plain": [
       "<qiskit.circuit.instructionset.InstructionSet at 0x7fbf3b287940>"
      ]
     },
     "execution_count": 8,
     "metadata": {},
     "output_type": "execute_result"
    }
   ],
   "source": [
    "U_g.ch(2, 0)\n",
    "U_g.ch(2, 1)\n",
    "U_g.ccx(2, 0, 1)"
   ]
  },
  {
   "cell_type": "markdown",
   "id": "8383d367-c867-47c2-ab14-844f0c47fec5",
   "metadata": {},
   "source": [
    "Lastly, we reverse the rotation of the ancilla qubit."
   ]
  },
  {
   "cell_type": "code",
   "execution_count": 9,
   "id": "5e19ba79-643c-4c80-b10b-3b6628fdff47",
   "metadata": {},
   "outputs": [
    {
     "data": {
      "image/png": "[encoded data removed]",
      "text/plain": [
       "<Figure size 1123.61x284.278 with 1 Axes>"
      ]
     },
     "execution_count": 9,
     "metadata": {},
     "output_type": "execute_result"
    }
   ],
   "source": [
    "U_g.ry(-(np.pi - angle), 2)\n",
    "U_g.draw(\"mpl\")"
   ]
  },
  {
   "cell_type": "markdown",
   "id": "cc3bea84-5071-4551-83fe-cf31ecbf31a1",
   "metadata": {},
   "source": [
    "The first qubit now contains the vector $g(x^{(0)})$ (up to some normalization), when the last two qubits are both zero, i.e. the projections are given by 2). We can use this knowledge to estimate the information efficiency of the constructed encoding."
   ]
  },
  {
   "cell_type": "code",
   "execution_count": 10,
   "id": "e6a80786-8c04-41e4-9e49-4de431b3502b",
   "metadata": {},
   "outputs": [
    {
     "data": {
      "text/plain": [
       "0.5840821859978269"
      ]
     },
     "execution_count": 10,
     "metadata": {},
     "output_type": "execute_result"
    }
   ],
   "source": [
    "def estimate_ie(U: qk.QuantumCircuit, estimator: Estimator) -> float:\n",
    "    zero = qk.quantum_info.SparsePauliOp([\"I\", \"Z\"], coeffs=[0.5, 0.5])\n",
    "    obs = qk.quantum_info.SparsePauliOp(\"I\" * (U.num_qubits - 3)) ^ zero ^ zero ^ qk.quantum_info.SparsePauliOp(\"I\")\n",
    "    circ = qk.transpile(U, estimator._backend, optimization_level=3)\n",
    "    obs = obs.apply_layout(circ.layout)\n",
    "    return np.sqrt(estimator.run([(circ, obs)]).result()[0].data.evs)\n",
    "\n",
    "\n",
    "ie = estimate_ie(U_g, estimator)\n",
    "ie"
   ]
  },
  {
   "cell_type": "markdown",
   "id": "34ade4f8-666c-4e4c-aafc-06c1514a1303",
   "metadata": {},
   "source": [
    "The next step is to amplify the encoding. We try here to obtain an encoding with information efficiency 1, since this would mean that we can drop the projections of the last two qubits. They would be in the image of the projection anyways.\n",
    "\n",
    "Amplitude amplification with $k$ iterations leads to an information efficiency of $\\sin(k \\sin^{-1}(\\eta))$, so we need the information efficiency to be $\\pi/(2k)$ for some odd $k$. This is not the case here, so we write a function constructing a block encoding of $g(x)$, that can optionally remove some information efficiency."
   ]
  },
  {
   "cell_type": "code",
   "execution_count": 11,
   "id": "31ce2408-946b-49d8-83ba-13eb605336ff",
   "metadata": {},
   "outputs": [
    {
     "data": {
      "image/png": "[encoded data removed]",
      "text/plain": [
       "<Figure size 1224.84x284.278 with 1 Axes>"
      ]
     },
     "execution_count": 11,
     "metadata": {},
     "output_type": "execute_result"
    }
   ],
   "source": [
    "def block_encoding_g(x: BlockEncoding, target_norm: float | None = None) -> BlockEncoding:\n",
    "    norm = np.sqrt(2) + (2/8) * x.norm ** 2\n",
    "\n",
    "    if target_norm is not None:\n",
    "        assert target_norm > norm\n",
    "        diff = target_norm - norm\n",
    "        angle = 2 * np.arctan(np.sqrt((np.sqrt(2) + diff) / ((2/8) * x.norm ** 2)))\n",
    "        angle2 = 2 * np.arccos(np.sqrt(2) / (np.sqrt(2) + diff))\n",
    "        norm = target_norm\n",
    "    else:\n",
    "        angle = 2 * np.arctan(np.sqrt(np.sqrt(2) / ((2/8) * x.norm ** 2)))\n",
    "\n",
    "    c = qk.QuantumRegister(1, name=\"c\")\n",
    "    x1 = qk.QuantumRegister(1, name=\"x1\")\n",
    "    x2 = qk.QuantumRegister(1, name=\"x2\")\n",
    "    add = qk.QuantumRegister(1, name=\"add\")\n",
    "    a = qk.QuantumRegister(x.cU.num_qubits - 2, name=\"a\")  # Register to give x the ancilla space it needs\n",
    "\n",
    "    # Define non-controlled circuit\n",
    "    U = qk.QuantumCircuit(x1, x2, add, a, name=\"U_g\")\n",
    "    U.ry(angle, add)\n",
    "    U.ch(add, x1)\n",
    "\n",
    "    # Here, in the case where the add bit is |1> we rotate the bit used to store the second copy of x.\n",
    "    # This is normally unused in this case.\n",
    "    if target_norm is not None:\n",
    "        U.cry(angle2, add, x2)\n",
    "\n",
    "    U.x(add)\n",
    "    U.z(add)\n",
    "    U.append(x.cU, [add, x1[0]] + a[:x.cU.num_qubits - 2])\n",
    "    U.append(x.cU, [add, x2[0]] + a[-(x.cU.num_qubits - 2):])\n",
    "    U.ch(add, x1)\n",
    "    U.ch(add, x2)\n",
    "    U.ccx(add, x1, x2)\n",
    "    U.ry(-(np.pi - angle), add)\n",
    "\n",
    "    # Define controlled circuit analogously\n",
    "    cU = qk.QuantumCircuit(c, x1, x2, add, a, name=\"cU_g\")\n",
    "    cU.cry(angle, c, add)\n",
    "    cU.ch(add, x1)\n",
    "    if target_norm is not None:\n",
    "        cU.cry(angle2, add, x2)\n",
    "    cU.cx(c, add)\n",
    "    cU.z(add)\n",
    "    cU.append(x.cU, [add, x1[0]] + a[:x.cU.num_qubits - 2])\n",
    "    cU.append(x.cU, [add, x2[0]] + a[-(x.cU.num_qubits - 2):])\n",
    "    cU.ch(add, x1)\n",
    "    cU.ch(add, x2)\n",
    "    cU.ccx(add, x1, x2)\n",
    "    cU.cry(-(np.pi - angle), c, add)\n",
    "\n",
    "    return BlockEncoding(U, cU, norm)\n",
    "\n",
    "x1 = block_encoding_g(x0, (np.sqrt(2) + (2/8) * 2) * ie / 0.5)\n",
    "x1.U.draw(\"mpl\")"
   ]
  },
  {
   "cell_type": "markdown",
   "id": "0cbe3d08-0865-4451-a2ed-0e9793bba854",
   "metadata": {},
   "source": [
    "This now has information efficiency $0.5$ so we can use $k = 3$ steps of amplitude amplification to get an encoding with perfrect information efficiency."
   ]
  },
  {
   "cell_type": "code",
   "execution_count": 12,
   "id": "1d97d23d-d079-41bf-a457-e8b4c0a2fd5a",
   "metadata": {},
   "outputs": [
    {
     "data": {
      "text/plain": [
       "0.5001849657876574"
      ]
     },
     "execution_count": 12,
     "metadata": {},
     "output_type": "execute_result"
    }
   ],
   "source": [
    "estimate_ie(x1.U, estimator)"
   ]
  },
  {
   "cell_type": "code",
   "execution_count": 13,
   "id": "a7c4275f-7d0d-45b5-b3d6-ff3a21dfc9cd",
   "metadata": {},
   "outputs": [
    {
     "data": {
      "image/png": "[encoded data removed]",
      "text/plain": [
       "<Figure size 955.183x284.278 with 1 Axes>"
      ]
     },
     "execution_count": 13,
     "metadata": {},
     "output_type": "execute_result"
    }
   ],
   "source": [
    "def amplify(inp: BlockEncoding, k: int) -> BlockEncoding:\n",
    "\n",
    "    c = qk.QuantumRegister(1, name=\"c\")\n",
    "    x = qk.QuantumRegister(inp.U.num_qubits, name=\"x\")\n",
    "    a = qk.QuantumRegister(1, name=\"a\")\n",
    "\n",
    "    # Define non-controlled unitary\n",
    "    U = qk.QuantumCircuit(x)\n",
    "    for i in range(k):\n",
    "        if i % 2 == 0:\n",
    "            U.append(inp.U, x[:])\n",
    "        else:\n",
    "            U.append(inp.U.inverse(), x[:])\n",
    "\n",
    "        if i == (k - 1):\n",
    "            if ((k - 1) / 2) % 2 == 1:\n",
    "                U.append(qk.circuit.library.GlobalPhaseGate(np.pi))\n",
    "        elif i % 2 == 1:\n",
    "            # Flip phase if first three qubits are zero\n",
    "            U.x([x[0], x[1], x[2]])\n",
    "            U.ccz(x[0], x[1], x[2])\n",
    "            U.x([x[0], x[1], x[2]])\n",
    "        else:\n",
    "            # Flip phase if second and third qubits are zero\n",
    "            U.x([x[1], x[2]])\n",
    "            U.cz(x[1], x[2])\n",
    "            U.x([x[1], x[2]])\n",
    "\n",
    "    # Define controlled unitary\n",
    "    if inp.U.num_qubits == 3:\n",
    "        cU = qk.QuantumCircuit(c, x, a)\n",
    "    else:\n",
    "        cU = qk.QuantumCircuit(c, x)\n",
    "        # After step 1 we can reuse an ancilla bit\n",
    "        a = x[-1:]\n",
    "    for i in range(k):\n",
    "        if i % 2 == 0:\n",
    "            if i == k - 1:\n",
    "                cU.append(inp.cU, c[:] + x[:])\n",
    "            else:\n",
    "                cU.append(inp.U, x[:])\n",
    "        else:\n",
    "            cU.append(inp.U.inverse(), x[:])\n",
    "        if i == (k - 1):\n",
    "            if ((k - 1) / 2) % 2 == 1:\n",
    "                cU.z(c)\n",
    "        elif i % 2 == 1:\n",
    "            cU.x([x[0], x[1], x[2]])\n",
    "            cU.rccx(x[0], x[1], a[0])\n",
    "            cU.ccz(c, a[0], x[2])\n",
    "            cU.rccx(x[0], x[1], a[0])\n",
    "            cU.x([x[0], x[1], x[2]])\n",
    "        else:\n",
    "            cU.x([x[1], x[2]])\n",
    "            cU.ccz(c, x[1], x[2])\n",
    "            cU.x([x[1], x[2]])\n",
    "\n",
    "    return BlockEncoding(U, cU, inp.norm * np.sin(np.pi/(2 * k)))\n",
    "\n",
    "x1 = amplify(x1, 3)\n",
    "x1.U.draw(\"mpl\")"
   ]
  },
  {
   "cell_type": "code",
   "execution_count": 14,
   "id": "982e60eb-a75c-42d2-9030-b81e5952be85",
   "metadata": {},
   "outputs": [
    {
     "data": {
      "text/plain": [
       "1.0"
      ]
     },
     "execution_count": 14,
     "metadata": {},
     "output_type": "execute_result"
    }
   ],
   "source": [
    "estimate_ie(x1.U, estimator)"
   ]
  },
  {
   "cell_type": "markdown",
   "id": "165196e0-4c08-4ccf-87b9-3d7fa253bf17",
   "metadata": {},
   "source": [
    "Let us define a function that chooses $k$ and performs the above steps automatically."
   ]
  },
  {
   "cell_type": "code",
   "execution_count": 15,
   "id": "a459c106-96f4-44fe-b8f5-41637468ed1b",
   "metadata": {},
   "outputs": [],
   "source": [
    "def g(x: BlockEncoding, estimator: Estimator):\n",
    "    res = block_encoding_g(x)\n",
    "    if type(estimator) is float:\n",
    "        ie = estimator\n",
    "    else:\n",
    "        ie = estimate_ie(res.U, estimator)\n",
    "    k = 2 * int(np.ceil(0.25 * (np.pi / np.arcsin(ie) - 2))) + 1\n",
    "    add_subnorm = np.sin(np.pi/(2 * k)) / ie\n",
    "    target_norm = res.norm / add_subnorm\n",
    "    res = block_encoding_g(x, target_norm)\n",
    "    return amplify(res, k)"
   ]
  },
  {
   "cell_type": "markdown",
   "id": "757cc951-1b21-4d42-ae20-e7b7bacc0a6c",
   "metadata": {},
   "source": [
    "We run a few iterations to verify our results."
   ]
  },
  {
   "cell_type": "code",
   "execution_count": 16,
   "id": "b3009589-43ac-405a-9215-a4df68c877eb",
   "metadata": {},
   "outputs": [
    {
     "name": "stdout",
     "output_type": "stream",
     "text": [
      "x1 (simulated): [0.49915082 0.99924164]\n",
      "x1 (reference): [0.5 1. ]\n",
      "x2 (simulated): [0.72154258 0.96711954]\n",
      "x2 (reference): [0.71875 0.96875]\n",
      "x3 (simulated): [0.64803048 0.98947062]\n",
      "x3 (reference): [0.64404297 0.9921875 ]\n"
     ]
    }
   ],
   "source": [
    "N = 3\n",
    "x = x0\n",
    "x_ref = np.array([1, 1])\n",
    "for i in range(N):\n",
    "    x = g(x, estimator)\n",
    "\n",
    "    # Sample the encoding x\n",
    "    obs0 = qk.quantum_info.SparsePauliOp([\"I\" * x.U.num_qubits, \"I\" * (x.U.num_qubits - 1) + \"Z\"], coeffs=[0.5, 0.5])\n",
    "    circ = qk.transpile(x.U, estimator._backend, optimization_level=3)\n",
    "    obs0 = obs0.apply_layout(circ.layout)\n",
    "    result = estimator.run([(circ, obs0)]).result()\n",
    "    p = np.array([result[0].data.evs, 1-result[0].data.evs])\n",
    "    print(f\"x{i+1} (simulated): {np.sqrt(p) * x.norm}\")\n",
    "\n",
    "    x_ref = np.array([1 - 0.125 * (x_ref[0] + x_ref[1]) ** 2, 1 - 0.125 * (x_ref[0] - x_ref[1]) ** 2])\n",
    "    print(f\"x{i+1} (reference): {x_ref}\")"
   ]
  },
  {
   "cell_type": "markdown",
   "id": "27fc3afe-38b6-4eea-acfe-418b0c1c82d3",
   "metadata": {},
   "source": [
    "Note, that while the number of qubits grows with each iteration, it only does so linearly. The runtime increases roughly exponentially. We could also give each instance of $U_x$ its own memory in the definition of `block_encoding_g`, which would lead to exponential memory growth, but linear circuit depth."
   ]
  },
  {
   "cell_type": "code",
   "execution_count": 17,
   "id": "474a8054-5fad-40f2-ae18-d081e6c27faa",
   "metadata": {},
   "outputs": [
    {
     "data": {
      "image/png": "[encoded data removed]",
      "text/plain": [
       "<Figure size 955.183x702.333 with 1 Axes>"
      ]
     },
     "execution_count": 17,
     "metadata": {},
     "output_type": "execute_result"
    }
   ],
   "source": [
    "x.U.draw(\"mpl\")"
   ]
  },
  {
   "cell_type": "markdown",
   "id": "4a973826-323a-41c5-9d30-87d60ce74600",
   "metadata": {},
   "source": [
    "Additionally we can test the circuit on actual quantum devices. This requires an IBM account."
   ]
  },
  {
   "cell_type": "code",
   "execution_count": 18,
   "id": "53689568-1f9b-4854-850e-ace4092c0c08",
   "metadata": {},
   "outputs": [
    {
     "name": "stdout",
     "output_type": "stream",
     "text": [
      "x1 (simulated): [0.46865308 1.06265909]\n",
      "x1 (reference): [0.5 1. ]\n",
      "ie = 0.6067311270306674\n",
      "x2 (simulated): [0.74254395 0.97134777]\n",
      "x2 (reference): [0.71875 0.96875]\n",
      "ie = 0.6980887786881637\n"
     ]
    }
   ],
   "source": [
    "# Enter your credentials here vvv\n",
    "service = QiskitRuntimeService()\n",
    "\n",
    "backend = service.backend(\"ibm_fez\")\n",
    "\n",
    "estimator = EstimatorV2(mode=backend)\n",
    "estimator.options.resilience_level = 2\n",
    "N = 2\n",
    "x = x0\n",
    "x_ref = np.array([1, 1])\n",
    "\n",
    "for i in range(N):\n",
    "    # Sample the encoding x\n",
    "    gx = block_encoding_g(x)\n",
    "\n",
    "    zero = qk.quantum_info.SparsePauliOp([\"I\", \"Z\"], coeffs=[0.5, 0.5])\n",
    "    one = qk.quantum_info.SparsePauliOp([\"I\", \"Z\"], coeffs=[0.5, -0.5])\n",
    "    obs0 = qk.quantum_info.SparsePauliOp(\"I\" * (gx.U.num_qubits - 3)) ^ zero ^ zero ^ zero\n",
    "    obs1 = qk.quantum_info.SparsePauliOp(\"I\" * (gx.U.num_qubits - 3)) ^ zero ^ zero ^ one\n",
    "    circ = qk.transpile(gx.U, estimator._backend, optimization_level=3)\n",
    "    obs0 = obs0.apply_layout(circ.layout)\n",
    "    obs1 = obs1.apply_layout(circ.layout)\n",
    "    job = estimator.run([(circ, [obs0, obs1])])\n",
    "    result = job.result()\n",
    "    p = np.array([result[0].data.evs[0], result[0].data.evs[1]])\n",
    "    print(f\"x{i+1} (simulated): {np.sqrt(p) * gx.norm}\")\n",
    "\n",
    "    x_ref = np.array([1 - 0.125 * (x_ref[0] + x_ref[1]) ** 2, 1 - 0.125 * (x_ref[0] - x_ref[1]) ** 2])\n",
    "    print(f\"x{i+1} (reference): {x_ref}\")\n",
    "\n",
    "    ie = np.sqrt(np.sum(p))\n",
    "    print(f\"ie = {ie}\")\n",
    "    x = g(x, float(ie))"
   ]
  }
 ],
 "metadata": {
  "kernelspec": {
   "display_name": "Python 3 (ipykernel)",
   "language": "python",
   "name": "python3"
  },
  "language_info": {
   "codemirror_mode": {
    "name": "ipython",
    "version": 3
   },
   "file_extension": ".py",
   "mimetype": "text/x-python",
   "name": "python",
   "nbconvert_exporter": "python",
   "pygments_lexer": "ipython3",
   "version": "3.10.12"
  }
 },
 "nbformat": 4,
 "nbformat_minor": 5
}
